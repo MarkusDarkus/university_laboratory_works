{
  "cells": [
    {
      "cell_type": "markdown",
      "metadata": {
        "id": "upC-MbR0vVhC"
      },
      "source": [
        "# Практическое задание 4\n",
        "## КМБО-01-20, Гребнев Никита, вариант 5 "
      ]
    },
    {
      "cell_type": "markdown",
      "metadata": {
        "id": "k7sHfpI4vVhD"
      },
      "source": [
        "Исходные данные: \n",
        "- Набор данных - [Video game sales](https://www.kaggle.com/gregorut/videogamesales)\n",
        "- Тип классификатора - LogisticRegression (логистическая регрессия)\n",
        "- Классификация по столбцу - Platform (PS2 – класс 0, остальные уровни – класс 1)"
      ]
    },
    {
      "cell_type": "markdown",
      "metadata": {
        "id": "9F-GTtGAvVhD"
      },
      "source": [
        "### Установливаем необходимые библиотеки:"
      ]
    },
    {
      "cell_type": "code",
      "execution_count": null,
      "metadata": {
        "id": "mV8aMxYIvVhE"
      },
      "outputs": [],
      "source": [
        "!pip install pandas\n",
        "!pip install sklearn"
      ]
    },
    {
      "cell_type": "markdown",
      "metadata": {
        "id": "0B6M7CsxvVhE"
      },
      "source": [
        "### Считываем данныеиз файла, преобразуем поле Platform: `0`, если там было значение `PS2` , иначе `1`"
      ]
    },
    {
      "cell_type": "code",
      "execution_count": null,
      "metadata": {
        "id": "31Ci4NpBvVhE"
      },
      "outputs": [],
      "source": [
        "import pandas\n",
        "import numpy as np\n",
        "data = pandas.read_csv('vgsales.csv', index_col='Rank')\n",
        "\n",
        "# исключаем столбец Name как поле с уникальными значениями\n",
        "data_sel = data.loc[:, data.columns.isin(['Platform', 'Year', 'Genre', 'Publisher', 'NA_Sales', 'EU_Sales', 'JP_Sales', 'Other_Sales'])]\n",
        "data_sel = data_sel.dropna()\n",
        "data_sel['Platform'] = np.where(data_sel['Platform'] == 'PS2', 0, 1)"
      ]
    },
    {
      "cell_type": "markdown",
      "metadata": {
        "id": "q2vQIURxvVhF"
      },
      "source": [
        "### Разделяем данные: отдельно `Platform`, отдельно все остальные данные"
      ]
    },
    {
      "cell_type": "code",
      "execution_count": null,
      "metadata": {
        "id": "q0d6mmGOvVhF"
      },
      "outputs": [],
      "source": [
        "Platform = data_sel.loc[:, data_sel.columns.isin(['Platform'])]\n",
        "X = data_sel.loc[:, data_sel.columns.isin(['Year', 'Genre', 'Publisher', 'NA_Sales', 'EU_Sales', 'JP_Sales', 'Other_Sales'])]"
      ]
    },
    {
      "cell_type": "markdown",
      "metadata": {
        "id": "Lxcqb5fGvVhF"
      },
      "source": [
        "### Преобразуем текстовые данные в числовые "
      ]
    },
    {
      "cell_type": "code",
      "execution_count": null,
      "metadata": {
        "id": "aVVBfxGsvVhF",
        "outputId": "c6f1c654-99f9-4138-ba33-b79430588356"
      },
      "outputs": [
        {
          "name": "stderr",
          "output_type": "stream",
          "text": [
            "<ipython-input-4-86c2fc005784>:4: SettingWithCopyWarning: \n",
            "A value is trying to be set on a copy of a slice from a DataFrame.\n",
            "Try using .loc[row_indexer,col_indexer] = value instead\n",
            "\n",
            "See the caveats in the documentation: https://pandas.pydata.org/pandas-docs/stable/user_guide/indexing.html#returning-a-view-versus-a-copy\n",
            "  X['Genre'] = X['Genre'].replace(item, i)\n",
            "<ipython-input-4-86c2fc005784>:10: SettingWithCopyWarning: \n",
            "A value is trying to be set on a copy of a slice from a DataFrame.\n",
            "Try using .loc[row_indexer,col_indexer] = value instead\n",
            "\n",
            "See the caveats in the documentation: https://pandas.pydata.org/pandas-docs/stable/user_guide/indexing.html#returning-a-view-versus-a-copy\n",
            "  X['Publisher'] = X['Publisher'].replace(item, i)\n"
          ]
        }
      ],
      "source": [
        "my_set = set(X.Genre)\n",
        "i = 0\n",
        "for item in my_set:\n",
        "    X['Genre'] = X['Genre'].replace(item, i)\n",
        "    i = i + 1\n",
        "    \n",
        "i = 0\n",
        "my_set2 = set(X.Publisher)\n",
        "for item in my_set2:\n",
        "    X['Publisher'] = X['Publisher'].replace(item, i)\n",
        "    i = i + 1"
      ]
    },
    {
      "cell_type": "code",
      "execution_count": null,
      "metadata": {
        "id": "mJ2L6NUnvVhG",
        "outputId": "2dde7ce9-932c-4bb3-87af-f1319667dc8b"
      },
      "outputs": [
        {
          "data": {
            "text/html": [
              "<div>\n",
              "<style scoped>\n",
              "    .dataframe tbody tr th:only-of-type {\n",
              "        vertical-align: middle;\n",
              "    }\n",
              "\n",
              "    .dataframe tbody tr th {\n",
              "        vertical-align: top;\n",
              "    }\n",
              "\n",
              "    .dataframe thead th {\n",
              "        text-align: right;\n",
              "    }\n",
              "</style>\n",
              "<table border=\"1\" class=\"dataframe\">\n",
              "  <thead>\n",
              "    <tr style=\"text-align: right;\">\n",
              "      <th></th>\n",
              "      <th>Year</th>\n",
              "      <th>Genre</th>\n",
              "      <th>Publisher</th>\n",
              "      <th>NA_Sales</th>\n",
              "      <th>EU_Sales</th>\n",
              "      <th>JP_Sales</th>\n",
              "      <th>Other_Sales</th>\n",
              "    </tr>\n",
              "    <tr>\n",
              "      <th>Rank</th>\n",
              "      <th></th>\n",
              "      <th></th>\n",
              "      <th></th>\n",
              "      <th></th>\n",
              "      <th></th>\n",
              "      <th></th>\n",
              "      <th></th>\n",
              "    </tr>\n",
              "  </thead>\n",
              "  <tbody>\n",
              "    <tr>\n",
              "      <th>1</th>\n",
              "      <td>2006.0</td>\n",
              "      <td>5</td>\n",
              "      <td>64</td>\n",
              "      <td>41.49</td>\n",
              "      <td>29.02</td>\n",
              "      <td>3.77</td>\n",
              "      <td>8.46</td>\n",
              "    </tr>\n",
              "    <tr>\n",
              "      <th>2</th>\n",
              "      <td>1985.0</td>\n",
              "      <td>2</td>\n",
              "      <td>64</td>\n",
              "      <td>29.08</td>\n",
              "      <td>3.58</td>\n",
              "      <td>6.81</td>\n",
              "      <td>0.77</td>\n",
              "    </tr>\n",
              "    <tr>\n",
              "      <th>3</th>\n",
              "      <td>2008.0</td>\n",
              "      <td>0</td>\n",
              "      <td>64</td>\n",
              "      <td>15.85</td>\n",
              "      <td>12.88</td>\n",
              "      <td>3.79</td>\n",
              "      <td>3.31</td>\n",
              "    </tr>\n",
              "    <tr>\n",
              "      <th>4</th>\n",
              "      <td>2009.0</td>\n",
              "      <td>5</td>\n",
              "      <td>64</td>\n",
              "      <td>15.75</td>\n",
              "      <td>11.01</td>\n",
              "      <td>3.28</td>\n",
              "      <td>2.96</td>\n",
              "    </tr>\n",
              "    <tr>\n",
              "      <th>5</th>\n",
              "      <td>1996.0</td>\n",
              "      <td>7</td>\n",
              "      <td>64</td>\n",
              "      <td>11.27</td>\n",
              "      <td>8.89</td>\n",
              "      <td>10.22</td>\n",
              "      <td>1.00</td>\n",
              "    </tr>\n",
              "    <tr>\n",
              "      <th>...</th>\n",
              "      <td>...</td>\n",
              "      <td>...</td>\n",
              "      <td>...</td>\n",
              "      <td>...</td>\n",
              "      <td>...</td>\n",
              "      <td>...</td>\n",
              "      <td>...</td>\n",
              "    </tr>\n",
              "    <tr>\n",
              "      <th>16596</th>\n",
              "      <td>2002.0</td>\n",
              "      <td>2</td>\n",
              "      <td>491</td>\n",
              "      <td>0.01</td>\n",
              "      <td>0.00</td>\n",
              "      <td>0.00</td>\n",
              "      <td>0.00</td>\n",
              "    </tr>\n",
              "    <tr>\n",
              "      <th>16597</th>\n",
              "      <td>2003.0</td>\n",
              "      <td>6</td>\n",
              "      <td>471</td>\n",
              "      <td>0.01</td>\n",
              "      <td>0.00</td>\n",
              "      <td>0.00</td>\n",
              "      <td>0.00</td>\n",
              "    </tr>\n",
              "    <tr>\n",
              "      <th>16598</th>\n",
              "      <td>2008.0</td>\n",
              "      <td>0</td>\n",
              "      <td>213</td>\n",
              "      <td>0.00</td>\n",
              "      <td>0.00</td>\n",
              "      <td>0.00</td>\n",
              "      <td>0.00</td>\n",
              "    </tr>\n",
              "    <tr>\n",
              "      <th>16599</th>\n",
              "      <td>2010.0</td>\n",
              "      <td>3</td>\n",
              "      <td>269</td>\n",
              "      <td>0.00</td>\n",
              "      <td>0.01</td>\n",
              "      <td>0.00</td>\n",
              "      <td>0.00</td>\n",
              "    </tr>\n",
              "    <tr>\n",
              "      <th>16600</th>\n",
              "      <td>2003.0</td>\n",
              "      <td>2</td>\n",
              "      <td>337</td>\n",
              "      <td>0.01</td>\n",
              "      <td>0.00</td>\n",
              "      <td>0.00</td>\n",
              "      <td>0.00</td>\n",
              "    </tr>\n",
              "  </tbody>\n",
              "</table>\n",
              "<p>16291 rows × 7 columns</p>\n",
              "</div>"
            ],
            "text/plain": [
              "         Year  Genre  Publisher  NA_Sales  EU_Sales  JP_Sales  Other_Sales\n",
              "Rank                                                                      \n",
              "1      2006.0      5         64     41.49     29.02      3.77         8.46\n",
              "2      1985.0      2         64     29.08      3.58      6.81         0.77\n",
              "3      2008.0      0         64     15.85     12.88      3.79         3.31\n",
              "4      2009.0      5         64     15.75     11.01      3.28         2.96\n",
              "5      1996.0      7         64     11.27      8.89     10.22         1.00\n",
              "...       ...    ...        ...       ...       ...       ...          ...\n",
              "16596  2002.0      2        491      0.01      0.00      0.00         0.00\n",
              "16597  2003.0      6        471      0.01      0.00      0.00         0.00\n",
              "16598  2008.0      0        213      0.00      0.00      0.00         0.00\n",
              "16599  2010.0      3        269      0.00      0.01      0.00         0.00\n",
              "16600  2003.0      2        337      0.01      0.00      0.00         0.00\n",
              "\n",
              "[16291 rows x 7 columns]"
            ]
          },
          "execution_count": 5,
          "metadata": {},
          "output_type": "execute_result"
        }
      ],
      "source": [
        "X"
      ]
    },
    {
      "cell_type": "markdown",
      "metadata": {
        "id": "afBG5qGZvVhG"
      },
      "source": [
        "### Разделяем данные на обучающую и тестовую выборку"
      ]
    },
    {
      "cell_type": "code",
      "execution_count": null,
      "metadata": {
        "id": "pWqVI6RgvVhG"
      },
      "outputs": [],
      "source": [
        "from sklearn.model_selection import train_test_split\n",
        "x_train, x_validation, y_train, y_validation = train_test_split(X, Platform, test_size=.33, random_state=5)"
      ]
    },
    {
      "cell_type": "markdown",
      "metadata": {
        "id": "0FNZHe3OvVhH"
      },
      "source": [
        "### Выключаем предупреждения, потому что дальше их будет слишком много, и я не знаю, как их устранить "
      ]
    },
    {
      "cell_type": "code",
      "execution_count": null,
      "metadata": {
        "id": "gGd6p48MvVhH"
      },
      "outputs": [],
      "source": [
        "import warnings\n",
        "warnings.filterwarnings('ignore')"
      ]
    },
    {
      "cell_type": "markdown",
      "metadata": {
        "id": "mLhgLg3BvVhH"
      },
      "source": [
        "### Построим классификатор логистической регрессии"
      ]
    },
    {
      "cell_type": "code",
      "execution_count": null,
      "metadata": {
        "id": "0hhryNbVvVhI",
        "outputId": "d2eda845-acab-41d9-baf9-34e000a1ea15"
      },
      "outputs": [
        {
          "data": {
            "text/plain": [
              "GridSearchCV(cv=10, estimator=LogisticRegression(),\n",
              "             param_grid={'C': array([1.e-03, 1.e-02, 1.e-01, 1.e+00, 1.e+01, 1.e+02, 1.e+03]),\n",
              "                         'penalty': ['l1', 'l2']})"
            ]
          },
          "execution_count": 8,
          "metadata": {},
          "output_type": "execute_result"
        }
      ],
      "source": [
        "from sklearn.linear_model import LogisticRegression\n",
        "from sklearn.model_selection import GridSearchCV\n",
        "from sklearn.model_selection import StratifiedKFold\n",
        "\n",
        "grid={\"C\":np.logspace(-3,3,7), \"penalty\":[\"l1\",\"l2\"]}# l1 lasso l2 ridge\n",
        "logreg=LogisticRegression()\n",
        "logreg_cv=GridSearchCV(logreg,grid,cv=10)\n",
        "logreg_cv.fit(x_train,y_train)\n",
        "\n",
        "#logreg_cv = LogisticRegression(random_state=5).fit(x_train, y_train)"
      ]
    },
    {
      "cell_type": "markdown",
      "metadata": {
        "tags": [],
        "id": "-Se840qEvVhI"
      },
      "source": [
        "### Оценим точность построенного классификатора с помощью метрик precision, recall и F1 на тестовой выборке"
      ]
    },
    {
      "cell_type": "code",
      "execution_count": null,
      "metadata": {
        "scrolled": true,
        "tags": [],
        "id": "JIm_9z70vVhI",
        "outputId": "862fde17-8abb-4903-b2c7-71d9de0f25a2"
      },
      "outputs": [
        {
          "name": "stdout",
          "output_type": "stream",
          "text": [
            "f1:0.9268441803573799\n",
            "precision:0.8646316630799724\n",
            "recall:0.9987075925169815\n"
          ]
        }
      ],
      "source": [
        "from sklearn.model_selection import cross_val_score\n",
        "print(\"f1:\"+str(np.average(cross_val_score(logreg_cv, x_validation, y_validation, scoring='f1'))))\n",
        "print(\"precision:\"+str(np.average(cross_val_score(logreg_cv, x_validation, y_validation, scoring='precision'))))\n",
        "print(\"recall:\"+str(np.average(cross_val_score(logreg_cv, x_validation, y_validation, scoring='recall'))))"
      ]
    },
    {
      "cell_type": "markdown",
      "metadata": {
        "id": "iDtdrINWvVhI"
      },
      "source": [
        "### Построим классификатор типа Случайный Лес (Random Forest) для решения той же задачи классификации:"
      ]
    },
    {
      "cell_type": "code",
      "execution_count": null,
      "metadata": {
        "id": "iiSa0VARvVhJ",
        "outputId": "e82cdb27-8bef-4d66-f225-1ad7261b140f"
      },
      "outputs": [
        {
          "data": {
            "text/plain": [
              "GridSearchCV(cv=5, estimator=RandomForestClassifier(),\n",
              "             param_grid={'criterion': ['gini'],\n",
              "                         'max_depth': [1, 2, 3, 4, 5, 6, 7, 8, 9],\n",
              "                         'max_features': ['auto'],\n",
              "                         'n_estimators': [50, 100, 150]})"
            ]
          },
          "execution_count": 10,
          "metadata": {},
          "output_type": "execute_result"
        }
      ],
      "source": [
        "from sklearn.ensemble import RandomForestClassifier \n",
        "param_grid = { 'n_estimators': [50, 100, 150],'max_features': ['auto'],'max_depth' : list(range(1, 10)), 'criterion' :['gini']}\n",
        "RFC = GridSearchCV(estimator=RandomForestClassifier(), param_grid=param_grid, cv= 5, refit = True) \n",
        "RFC.fit(x_train, y_train)"
      ]
    },
    {
      "cell_type": "markdown",
      "metadata": {
        "id": "P0uBv3UOvVhJ"
      },
      "source": [
        "### Оценим точность построенного классификатора с помощью метрик precision, recall и F1 на тестовой выборке"
      ]
    },
    {
      "cell_type": "code",
      "execution_count": null,
      "metadata": {
        "id": "q8VGf6GFvVhJ",
        "outputId": "c0b09a67-5fc0-4c50-8fe2-135dea697850"
      },
      "outputs": [
        {
          "name": "stdout",
          "output_type": "stream",
          "text": [
            "f1:0.9659419892832387\n",
            "precision:0.938509249885534\n",
            "recall:0.9952627964811998\n"
          ]
        }
      ],
      "source": [
        "print(\"f1:\"+str(np.average(cross_val_score(RFC.best_estimator_, x_validation, y_validation, scoring='f1'))))\n",
        "print(\"precision:\"+str(np.average(cross_val_score(RFC.best_estimator_, x_validation, y_validation, scoring='precision'))))\n",
        "print(\"recall:\"+str(np.average(cross_val_score(RFC.best_estimator_, x_validation, y_validation, scoring='recall'))))"
      ]
    },
    {
      "cell_type": "markdown",
      "metadata": {
        "id": "mbjc8OM5vVhJ"
      },
      "source": [
        "### Сравним точности классификаторов\n",
        "| Значение сравнения | LogisticRegression | Random Forest\n",
        "|:--- | :---: | :---:\n",
        "|f1 | 0.92 | 0.96\n",
        "| precision | 0.86 | 0.93\n",
        "| recall | 0.99 | 0.99\n",
        "\n",
        "Видим, что показатели у Random Forest лучше"
      ]
    }
  ],
  "metadata": {
    "kernelspec": {
      "display_name": "Python 3",
      "language": "python",
      "name": "python3"
    },
    "language_info": {
      "codemirror_mode": {
        "name": "ipython",
        "version": 3
      },
      "file_extension": ".py",
      "mimetype": "text/x-python",
      "name": "python",
      "nbconvert_exporter": "python",
      "pygments_lexer": "ipython3",
      "version": "3.8.3"
    },
    "colab": {
      "provenance": []
    }
  },
  "nbformat": 4,
  "nbformat_minor": 0
}